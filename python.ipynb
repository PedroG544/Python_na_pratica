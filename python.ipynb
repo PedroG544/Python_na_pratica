{
 "cells": [
  {
   "cell_type": "markdown",
   "id": "e479de0c-5113-4ce0-ad6d-9f372262411b",
   "metadata": {},
   "source": [
    "# Fundamentos de Python"
   ]
  },
  {
   "cell_type": "markdown",
   "id": "8953b877-edf2-4ddc-8c49-14164e92280c",
   "metadata": {},
   "source": [
    "## O que é Python?\n",
    "Python é uma linguagem de programação de alto nível, interpretada e de propósito geral. Isso significa que ela é fácil de aprender e usar, e pode ser aplicada em uma ampla variedade de tarefas, desde desenvolvimento web até análise de dados e inteligência artificial."
   ]
  },
  {
   "cell_type": "code",
   "execution_count": 1,
   "id": "9d3b5f4c-7039-4872-9c81-99b53b29bf6b",
   "metadata": {},
   "outputs": [
    {
     "name": "stdout",
     "output_type": "stream",
     "text": [
      "Hello World\n"
     ]
    }
   ],
   "source": [
    "print(\"Hello World\")"
   ]
  },
  {
   "cell_type": "markdown",
   "id": "324e56a3-d589-476a-b0a6-433472fcbbce",
   "metadata": {},
   "source": [
    "Essa linha de código simples imprime a mensagem \"Hello World!\" na tela.\n",
    "\n",
    "### Tipos de Dados\n",
    "Números:\n",
    "    Inteiros (int): 1, 2, -3\n",
    "    Números de ponto flutuante (float): 3.14, -2.5\n",
    "Strings: Sequências de caracteres, como \"Olá, mundo!\"\n",
    "Booleanos: Valores lógicos, True ou False\n",
    "\n",
    "### Variáveis e Atribuição\n",
    "Uma variável é um nome que se refere a um valor na memória. A atribuição é feita usando o sinal de igual (=)."
   ]
  },
  {
   "cell_type": "code",
   "execution_count": 2,
   "id": "b33a916a-c834-4cc2-8f67-d3569fb35663",
   "metadata": {},
   "outputs": [],
   "source": [
    "nome = \"Alice\"\n",
    "idade = 30\n",
    "altura = 1.65"
   ]
  },
  {
   "cell_type": "markdown",
   "id": "71924edb-903c-4b7a-9a29-6ea004b148c0",
   "metadata": {},
   "source": [
    "### Operadores\n",
    "Aritméticos: +, -, *, /, // (divisão inteira), ** (potenciação)\n",
    "Relacionais: == (igual), != (diferente), <, >, <=, >=\n",
    "Lógicos: and, or, not"
   ]
  },
  {
   "cell_type": "code",
   "execution_count": 3,
   "id": "9f084a45-eedc-45fb-939a-2e1bd14c517b",
   "metadata": {},
   "outputs": [],
   "source": [
    "x = 10\n",
    "y = 5\n",
    "\n",
    "# Operações aritméticas\n",
    "soma = x + y\n",
    "subtracao = x - y\n",
    "multiplicacao = x * y\n",
    "divisao = x / y\n",
    "\n",
    "# Operações relacionais\n",
    "igual = x == y\n",
    "diferente = x != y\n",
    "maior_que = x > y\n",
    "\n",
    "# Operações lógicas\n",
    "e = x > 5 and y < 10\n",
    "ou = x > 15 or y < 5"
   ]
  },
  {
   "cell_type": "markdown",
   "id": "94df2396-b555-42ae-b333-ef7894b80bed",
   "metadata": {},
   "source": [
    "### Entrada de Dados com a Função input()\n",
    "Quer tornar seus programas mais interativos? A função input() é a sua ferramenta! Ela permite que você peça ao usuário para digitar informações que serão utilizadas pelo seu programa.\n",
    "\n",
    "### Exemplo:"
   ]
  },
  {
   "cell_type": "code",
   "execution_count": 8,
   "id": "114e52f9-f0a4-49fe-ab85-b9ce89cb963b",
   "metadata": {},
   "outputs": [
    {
     "name": "stdin",
     "output_type": "stream",
     "text": [
      "Digite seu nome:  Pedro\n"
     ]
    },
    {
     "name": "stdout",
     "output_type": "stream",
     "text": [
      "Olá, Pedro!\n"
     ]
    }
   ],
   "source": [
    "nome = input(\"Digite seu nome: \")\n",
    "print(\"Olá,\", nome + \"!\")"
   ]
  },
  {
   "cell_type": "markdown",
   "id": "64039fab-e8fb-431b-8b15-58ab015fb393",
   "metadata": {},
   "source": [
    "### Observações:\n",
    "\n",
    "Por padrão, a função input() retorna uma string. Se você precisar de um número, por exemplo, terá que converter a string usando int() para inteiros ou float() para números de ponto flutuante."
   ]
  },
  {
   "cell_type": "markdown",
   "id": "626fb292-0699-41aa-9b1a-48052b7f904b",
   "metadata": {},
   "source": [
    "# Exercícios"
   ]
  },
  {
   "cell_type": "markdown",
   "id": "92ee28aa-c03c-48b2-a3ec-167b3e67db3d",
   "metadata": {},
   "source": [
    "#### Crie variáveis para armazenar seu nome, idade e uma frase favorita. Imprima-as na tela."
   ]
  },
  {
   "cell_type": "code",
   "execution_count": null,
   "id": "d901ff00-0882-41aa-b8af-f347ee225f6d",
   "metadata": {},
   "outputs": [],
   "source": []
  },
  {
   "cell_type": "markdown",
   "id": "e622706b-fcad-44b2-aae9-3b4036d549e2",
   "metadata": {},
   "source": [
    "#### Faça cálculos simples ( 13+22, 123-18, 18*3, 90/4 ) e exiba os resultados."
   ]
  },
  {
   "cell_type": "code",
   "execution_count": null,
   "id": "87187ab3-6f82-405b-b9a2-5f9634314b0c",
   "metadata": {},
   "outputs": [],
   "source": []
  },
  {
   "cell_type": "markdown",
   "id": "6cc559b5-bc4a-4a72-a5ca-457e480e52fc",
   "metadata": {},
   "source": [
    "#### Converta uma string para um número inteiro e vice-versa."
   ]
  },
  {
   "cell_type": "code",
   "execution_count": null,
   "id": "41937eb3-95e5-454b-b0f0-7a49cd559b32",
   "metadata": {},
   "outputs": [],
   "source": []
  },
  {
   "cell_type": "markdown",
   "id": "7d94d741-8690-45dd-8a10-a4cab10f2760",
   "metadata": {},
   "source": [
    "## Estruturas de Controle em Python: Dando Vida ao Seu Código\n",
    "\n",
    "As estruturas de controle permitem que você crie programas mais complexos e dinâmicos, permitindo que seu código tome decisões e execute ações repetidamente. Vamos explorar as principais estruturas de controle em Python: condicionais e laços de repetição."
   ]
  },
  {
   "cell_type": "markdown",
   "id": "3f77ec27-790f-4885-ae5c-8072eb4bb8d7",
   "metadata": {},
   "source": [
    "### Condicionais (if, else, elif)\n",
    "As condicionais permitem que seu programa tome decisões com base em determinadas condições. A sintaxe básica é:"
   ]
  },
  {
   "cell_type": "code",
   "execution_count": null,
   "id": "377f045d-edee-4b94-a274-a00a8c2b245e",
   "metadata": {},
   "outputs": [],
   "source": [
    "if condição1:\n",
    "    # Código a ser executado se condição1 for verdadeira\n",
    "elif condição2:\n",
    "    # Código a ser executado se condição1 for falsa e condição2 for verdadeira\n",
    "else:\n",
    "    # Código a ser executado se nenhuma das condições anteriores for verdadeira"
   ]
  },
  {
   "cell_type": "markdown",
   "id": "d7b0e10b-b85b-4905-ab49-af4f381baf92",
   "metadata": {},
   "source": [
    "### Exemplo:"
   ]
  },
  {
   "cell_type": "code",
   "execution_count": 4,
   "id": "5409c8f8-fc54-4210-9984-a97f770d71f4",
   "metadata": {},
   "outputs": [
    {
     "name": "stdout",
     "output_type": "stream",
     "text": [
      "Você é maior de idade.\n"
     ]
    }
   ],
   "source": [
    "idade = 18\n",
    "\n",
    "if idade >= 18:\n",
    "    print(\"Você é maior de idade.\")\n",
    "else:\n",
    "    print(\"Você é menor de idade.\")"
   ]
  },
  {
   "cell_type": "markdown",
   "id": "75b0fef4-56dd-41f0-9fcf-0989de73ea46",
   "metadata": {},
   "source": [
    "### Laços de Repetição (for, while)\n",
    "Os laços de repetição permitem que você execute um bloco de código várias vezes."
   ]
  },
  {
   "cell_type": "markdown",
   "id": "a6320074-0627-4f8d-b178-c5482462b838",
   "metadata": {},
   "source": [
    "### for\n",
    "O laço for é usado para iterar sobre uma sequência (como listas, tuplas ou strings)."
   ]
  },
  {
   "cell_type": "code",
   "execution_count": null,
   "id": "7a0e0d80-6637-4ddc-acdb-515be3a7d19d",
   "metadata": {},
   "outputs": [],
   "source": [
    "for elemento in sequencia:\n",
    "    # Código a ser executado para cada elemento"
   ]
  },
  {
   "cell_type": "markdown",
   "id": "9dca62b0-13fc-4b83-b829-2a1e322509f8",
   "metadata": {},
   "source": [
    "### Exemplo:"
   ]
  },
  {
   "cell_type": "code",
   "execution_count": 5,
   "id": "36c9f53b-789d-4e7a-a1e8-49dd5f3c9abb",
   "metadata": {},
   "outputs": [
    {
     "name": "stdout",
     "output_type": "stream",
     "text": [
      "maçã\n",
      "banana\n",
      "laranja\n"
     ]
    }
   ],
   "source": [
    "frutas = [\"maçã\", \"banana\", \"laranja\"]\n",
    "for fruta in frutas:\n",
    "    print(fruta)"
   ]
  },
  {
   "cell_type": "markdown",
   "id": "ede682c2-9c50-4fa0-8dca-b10454033205",
   "metadata": {},
   "source": [
    "### while\n",
    "O laço while executa um bloco de código enquanto uma determinada condição for verdadeira."
   ]
  },
  {
   "cell_type": "code",
   "execution_count": null,
   "id": "f3bbad2a-55bf-4c64-923a-e409a64233ba",
   "metadata": {},
   "outputs": [],
   "source": [
    "while condição:\n",
    "    # Código a ser executado enquanto a condição for verdadeira"
   ]
  },
  {
   "cell_type": "markdown",
   "id": "5b109cf1-ca21-4c03-b7bd-007431b54ecd",
   "metadata": {},
   "source": [
    "### Exemplo: "
   ]
  },
  {
   "cell_type": "code",
   "execution_count": 6,
   "id": "311657c2-1542-4dcc-b957-59102abe4916",
   "metadata": {},
   "outputs": [
    {
     "name": "stdout",
     "output_type": "stream",
     "text": [
      "0\n",
      "1\n",
      "2\n",
      "3\n",
      "4\n"
     ]
    }
   ],
   "source": [
    "contador = 0\n",
    "while contador < 5:\n",
    "    print(contador)\n",
    "    contador += 1"
   ]
  },
  {
   "cell_type": "markdown",
   "id": "52526a4b-29c2-472d-b841-eec0bbe5d29a",
   "metadata": {},
   "source": [
    "### Combinando condicionais e laços:\n",
    "\n",
    "Você pode combinar condicionais e laços para criar programas mais sofisticados. Por exemplo, você pode usar um laço for para iterar sobre uma lista e um condicional if para verificar se cada elemento atende a um determinado critério."
   ]
  },
  {
   "cell_type": "markdown",
   "id": "73bac142-26b2-416d-b3c0-36595263d6bd",
   "metadata": {},
   "source": [
    "### Exemplo:"
   ]
  },
  {
   "cell_type": "code",
   "execution_count": 7,
   "id": "2877864c-5a42-4aaf-8e97-5ab606e76c06",
   "metadata": {},
   "outputs": [
    {
     "name": "stdout",
     "output_type": "stream",
     "text": [
      "1 é ímpar\n",
      "2 é par\n",
      "3 é ímpar\n",
      "4 é par\n",
      "5 é ímpar\n"
     ]
    }
   ],
   "source": [
    "numeros = [1, 2, 3, 4, 5]\n",
    "for numero in numeros:\n",
    "    if numero % 2 == 0:\n",
    "        print(numero, \"é par\")\n",
    "    else:\n",
    "        print(numero, \"é ímpar\")"
   ]
  },
  {
   "cell_type": "markdown",
   "id": "7e94e5b9-4f6c-4b0f-90a0-62a7ee0f52de",
   "metadata": {},
   "source": [
    "### Em resumo:\n",
    "\n",
    "As estruturas de controle são ferramentas essenciais para criar programas em Python que tomam decisões e executam tarefas repetidamente. Dominar o uso de if, else, elif, for e while é fundamental para qualquer programador Python."
   ]
  },
  {
   "cell_type": "markdown",
   "id": "b36b9965-902a-434c-ae97-febf6bde0a02",
   "metadata": {},
   "source": [
    "## Exercícios"
   ]
  },
  {
   "cell_type": "markdown",
   "id": "9b02cb26-6626-4668-9d8e-59b67c04df40",
   "metadata": {},
   "source": [
    "#### Crie um programa que peça ao usuário para digitar um número e verifique se ele é positivo, negativo ou zero."
   ]
  },
  {
   "cell_type": "code",
   "execution_count": null,
   "id": "b21ebaff-e2f3-496d-974c-4a2bb96d877e",
   "metadata": {},
   "outputs": [],
   "source": []
  },
  {
   "cell_type": "markdown",
   "id": "980e67d7-ffce-4e2a-93a4-b4f80bef634f",
   "metadata": {},
   "source": [
    "#### Imprima a tabuada de um número escolhido pelo usuário."
   ]
  },
  {
   "cell_type": "code",
   "execution_count": null,
   "id": "266a6dfe-5ae4-4d9f-9e1f-28015465ca53",
   "metadata": {},
   "outputs": [],
   "source": []
  },
  {
   "cell_type": "markdown",
   "id": "dd4668a8-306c-468f-a81a-b4eb15a7dc2a",
   "metadata": {},
   "source": [
    "#### Crie um programa que calcule a média de um conjunto de notas."
   ]
  },
  {
   "cell_type": "code",
   "execution_count": null,
   "id": "41f28642-f5d7-4322-beca-488048385904",
   "metadata": {},
   "outputs": [],
   "source": []
  },
  {
   "cell_type": "markdown",
   "id": "9eea31b3-860f-42c9-836d-7e509c3817ef",
   "metadata": {},
   "source": [
    "## Listas e Dicionários em Python: Organizando Seus Dados\n",
    "Listas e dicionários são estruturas de dados fundamentais em Python que permitem você armazenar coleções de itens. Vamos explorar cada uma delas:\n",
    "\n",
    "### Listas\n",
    "Listas são sequências ordenadas de elementos, que podem ser de qualquer tipo de dado. Elas são mutáveis, ou seja, você pode adicionar, remover ou modificar seus elementos após a criação.\n",
    "\n",
    "### Criando Lista"
   ]
  },
  {
   "cell_type": "code",
   "execution_count": 9,
   "id": "a16c0145-a1ac-4376-9b27-d66eb5362594",
   "metadata": {},
   "outputs": [],
   "source": [
    "minha_lista = [1, 2, 3, \"Olá\", True]"
   ]
  },
  {
   "cell_type": "markdown",
   "id": "9b4d1edb-be8a-403b-ac14-8f408874c851",
   "metadata": {},
   "source": [
    "### Acessando elementos:\n",
    "Você acessa os elementos de uma lista usando índices, que começam em 0."
   ]
  },
  {
   "cell_type": "code",
   "execution_count": 10,
   "id": "0ef483bd-7ac4-492a-a0d6-713763e7efb6",
   "metadata": {},
   "outputs": [],
   "source": [
    "primeiro_elemento = minha_lista[0]  # Acessa o primeiro elemento (1)\n",
    "ultimo_elemento = minha_lista[-1]  # Acessa o último elemento (True)"
   ]
  },
  {
   "cell_type": "markdown",
   "id": "97aaccf7-d966-4936-9c54-5341b9c55f78",
   "metadata": {},
   "source": [
    "### Modificando Elementos"
   ]
  },
  {
   "cell_type": "code",
   "execution_count": 11,
   "id": "f2be7681-04ec-4881-8465-774abd8df63a",
   "metadata": {},
   "outputs": [],
   "source": [
    "minha_lista[1] = \"Mundo\"  # Substitui o segundo elemento"
   ]
  },
  {
   "cell_type": "markdown",
   "id": "25710007-8b5b-4b56-bf96-e7607c9a24af",
   "metadata": {},
   "source": [
    "### Métodos úteis para listas:\n",
    "\n",
    "append(item): Adiciona um elemento ao final da lista.\n",
    "\n",
    "insert(índice, item): Insere um elemento em um índice específico.\n",
    "\n",
    "remove(item): Remove o primeiro elemento com o valor especificado.\n",
    "\n",
    "pop(índice): Remove e retorna o elemento em um índice específico.\n",
    "\n",
    "### Exemplo:"
   ]
  },
  {
   "cell_type": "code",
   "execution_count": 12,
   "id": "1642f371-4e53-4f5b-99fa-b2c6a5018200",
   "metadata": {},
   "outputs": [
    {
     "name": "stdout",
     "output_type": "stream",
     "text": [
      "['uva', 'maçã']\n",
      "laranja\n"
     ]
    }
   ],
   "source": [
    "frutas = [\"maçã\", \"banana\"]\n",
    "frutas.append(\"laranja\")  # Adiciona \"laranja\" ao final\n",
    "frutas.insert(0, \"uva\")  # Insere \"uva\" no início\n",
    "frutas.remove(\"banana\")  # Remove \"banana\"\n",
    "ultima_fruta = frutas.pop()  # Remove e retorna o último elemento\n",
    "\n",
    "print(frutas)\n",
    "print(ultima_fruta)"
   ]
  },
  {
   "cell_type": "markdown",
   "id": "c22ef767-20df-4e05-a9b9-d1f1fc758c6a",
   "metadata": {},
   "source": [
    "### Dicionários\n",
    "O que são dicionários?\n",
    "Dicionários são coleções de pares chave-valor. Cada chave é única e associada a um valor. Eles são mutáveis e não ordenados.\n",
    "\n",
    "### Criando dicionários:"
   ]
  },
  {
   "cell_type": "code",
   "execution_count": 13,
   "id": "f6923ac9-d9b6-49a7-9fa3-c5dd702de9f0",
   "metadata": {},
   "outputs": [],
   "source": [
    "meu_dicionario = {\"nome\": \"Alice\", \"idade\": 30, \"cidade\": \"São Paulo\"}"
   ]
  },
  {
   "cell_type": "markdown",
   "id": "c1c7ff90-458c-46ce-a01e-f9a4cf280ced",
   "metadata": {},
   "source": [
    "### Acessando elementos:\n",
    "Você acessa os valores de um dicionário usando suas chaves."
   ]
  },
  {
   "cell_type": "code",
   "execution_count": 14,
   "id": "b8c23657-2e3c-4a0f-88e4-1c89ad7a73cb",
   "metadata": {},
   "outputs": [],
   "source": [
    "nome = meu_dicionario[\"nome\"]"
   ]
  },
  {
   "cell_type": "markdown",
   "id": "88974ccb-c871-4c51-aee4-c645ea78382a",
   "metadata": {},
   "source": [
    "### Modificando elementos:"
   ]
  },
  {
   "cell_type": "code",
   "execution_count": 15,
   "id": "d7ed0ff3-c840-4664-ab4e-ba7089f40fd9",
   "metadata": {},
   "outputs": [],
   "source": [
    "meu_dicionario[\"idade\"] = 31  # Altera o valor da chave \"idade\""
   ]
  },
  {
   "cell_type": "markdown",
   "id": "a34e496b-58ba-47e8-aea3-344a8e86afaa",
   "metadata": {},
   "source": [
    "### Adicionando novos elementos:"
   ]
  },
  {
   "cell_type": "code",
   "execution_count": 16,
   "id": "e0a1b858-1a77-47a5-9cdd-6d73e3879cb5",
   "metadata": {},
   "outputs": [],
   "source": [
    "meu_dicionario[\"profissao\"] = \"Programador\""
   ]
  },
  {
   "cell_type": "markdown",
   "id": "f04932cb-9e5c-4487-8c75-4fe10443179c",
   "metadata": {},
   "source": [
    "### Métodos úteis para dicionários:\n",
    "\n",
    "keys(): Retorna uma lista com todas as chaves.\n",
    "\n",
    "values(): Retorna uma lista com todos os valores.\n",
    "\n",
    "items(): Retorna uma lista de tuplas (chave, valor).\n",
    "\n",
    "### Exemplo:"
   ]
  },
  {
   "cell_type": "code",
   "execution_count": 17,
   "id": "9296fda1-d1d1-42fc-a640-1225ce26ba44",
   "metadata": {},
   "outputs": [
    {
     "name": "stdout",
     "output_type": "stream",
     "text": [
      "João\n",
      "7\n"
     ]
    }
   ],
   "source": [
    "aluno = {\"nome\": \"João\", \"notas\": [8, 7, 9]}\n",
    "print(aluno[\"nome\"])  # Imprime \"João\"\n",
    "print(aluno[\"notas\"][1])  # Imprime a segunda nota (7)"
   ]
  },
  {
   "cell_type": "markdown",
   "id": "310abad6-744d-49d8-876b-f346edb3d9b8",
   "metadata": {},
   "source": [
    "### Exercícios"
   ]
  },
  {
   "cell_type": "markdown",
   "id": "a93b54a2-d75b-4a8e-bbd6-c79668cc52c7",
   "metadata": {},
   "source": [
    "#### Crie uma lista com os nomes de seus amigos e imprima cada nome."
   ]
  },
  {
   "cell_type": "code",
   "execution_count": null,
   "id": "a31ed31a-e805-42f1-ab97-21dc11bf7685",
   "metadata": {},
   "outputs": [],
   "source": []
  },
  {
   "cell_type": "markdown",
   "id": "7897f8b6-f975-4824-8ddb-775eb3b1c2aa",
   "metadata": {},
   "source": [
    "#### Adicione e remova um elemento à lista."
   ]
  },
  {
   "cell_type": "code",
   "execution_count": null,
   "id": "d10bfad1-16a1-49ba-a965-6a3ee09e957d",
   "metadata": {},
   "outputs": [],
   "source": []
  },
  {
   "cell_type": "markdown",
   "id": "a7a0d4a2-4cc7-4cf7-afa5-b3f277b8c6db",
   "metadata": {},
   "source": [
    "#### Crie um dicionário representando informações sobre uma pessoa, como nome, idade e cidade."
   ]
  },
  {
   "cell_type": "code",
   "execution_count": null,
   "id": "6dd40a34-3044-40f7-b63a-bd3cfec30944",
   "metadata": {},
   "outputs": [],
   "source": []
  },
  {
   "cell_type": "markdown",
   "id": "c16be670-61bb-4b7c-bd0e-df12e42b6c5f",
   "metadata": {},
   "source": [
    "#### Modifique o valor de um dos itens no dicionário e adicione o um item para ocupação"
   ]
  },
  {
   "cell_type": "code",
   "execution_count": null,
   "id": "83dce13c-be62-4255-9b15-85706512fdb0",
   "metadata": {},
   "outputs": [],
   "source": []
  },
  {
   "cell_type": "markdown",
   "id": "d70138d7-885e-4538-8729-610ca0f795ae",
   "metadata": {},
   "source": [
    "## Funções em Python: Organizando e Reutilizando Código\n",
    "\n",
    "Funções são blocos de código reutilizáveis que realizam uma tarefa específica. Elas ajudam a organizar o código, torná-lo mais legível e evitar repetições.   \n",
    "\n",
    "### Definindo funções:\n",
    "\n",
    "Para definir uma função, usamos a palavra-chave def, seguida do nome da função e parênteses. O código da função é indentado dentro destes parênteses."
   ]
  },
  {
   "cell_type": "code",
   "execution_count": 18,
   "id": "fc55ccc7-b604-4ef3-ae14-0865616bece8",
   "metadata": {},
   "outputs": [],
   "source": [
    "def saudacao(nome):\n",
    "    print(\"Olá,\", nome + \"!\")"
   ]
  },
  {
   "cell_type": "markdown",
   "id": "835291cd-37a4-4bbd-b506-3430cb9abb8a",
   "metadata": {},
   "source": [
    "### Passando argumentos:\n",
    "\n",
    "Argumentos são valores que você passa para uma função quando a chama. Eles são definidos dentro dos parênteses da definição da função."
   ]
  },
  {
   "cell_type": "code",
   "execution_count": 19,
   "id": "2d310be5-75bf-43fb-9774-29a5522a2a92",
   "metadata": {},
   "outputs": [
    {
     "name": "stdout",
     "output_type": "stream",
     "text": [
      "8\n"
     ]
    }
   ],
   "source": [
    "def soma(a, b):\n",
    "    resultado = a + b\n",
    "    return resultado\n",
    "\n",
    "resultado = soma(3, 5)\n",
    "print(resultado)  # Imprime 8"
   ]
  },
  {
   "cell_type": "markdown",
   "id": "fa3657a7-43d0-4022-ac4b-9bb330887743",
   "metadata": {},
   "source": [
    "### Retornando valores:\n",
    "\n",
    "A palavra-chave return é usada para retornar um valor de uma função. O valor retornado pode ser usado em outras partes do seu código."
   ]
  },
  {
   "cell_type": "code",
   "execution_count": 20,
   "id": "a9464ca9-1a62-4e17-8eb6-bc9c87f5860e",
   "metadata": {},
   "outputs": [
    {
     "name": "stdout",
     "output_type": "stream",
     "text": [
      "8\n"
     ]
    }
   ],
   "source": [
    "def dobro(numero):\n",
    "    return numero * 2\n",
    "\n",
    "resultado = dobro(4)\n",
    "print(resultado)  # Imprime 8"
   ]
  },
  {
   "cell_type": "markdown",
   "id": "7a116ea2-35a3-4f73-9ada-72c90f1b8537",
   "metadata": {},
   "source": [
    "### Funções com número variável de argumentos:\n",
    "\n",
    "*args: Permite passar um número arbitrário de argumentos não nomeados para uma função. Os argumentos são empacotados em uma tupla."
   ]
  },
  {
   "cell_type": "code",
   "execution_count": 21,
   "id": "93eeb142-e967-41c1-b341-1d5d15cee878",
   "metadata": {},
   "outputs": [
    {
     "name": "stdout",
     "output_type": "stream",
     "text": [
      "10\n"
     ]
    }
   ],
   "source": [
    "def soma_todos(*numeros):\n",
    "    resultado = 0\n",
    "    for numero in numeros:\n",
    "        resultado += numero\n",
    "    return resultado\n",
    "\n",
    "resultado = soma_todos(1, 2, 3, 4)\n",
    "print(resultado)  # Imprime 10"
   ]
  },
  {
   "cell_type": "markdown",
   "id": "96dae5fb-2733-4731-a236-e30cd857a69c",
   "metadata": {},
   "source": [
    "**kwargs: Permite passar um número arbitrário de argumentos nomeados para uma função. Os argumentos são empacotados em um dicionário."
   ]
  },
  {
   "cell_type": "code",
   "execution_count": 22,
   "id": "d9839f55-558d-4c3d-8d16-b981e5f59df4",
   "metadata": {},
   "outputs": [
    {
     "name": "stdout",
     "output_type": "stream",
     "text": [
      "nome: Alice\n",
      "idade: 30\n",
      "cidade: São Paulo\n"
     ]
    }
   ],
   "source": [
    "def criar_pessoa(**kwargs):\n",
    "    for chave, valor in kwargs.items():\n",
    "        print(f\"{chave}: {valor}\")\n",
    "\n",
    "criar_pessoa(nome=\"Alice\", idade=30, cidade=\"São Paulo\")"
   ]
  },
  {
   "cell_type": "markdown",
   "id": "64af2224-eb6c-4d75-a8c3-c0853b82292b",
   "metadata": {},
   "source": [
    "### Por que usar funções?\n",
    "\n",
    "Reutilização: Evita a repetição de código.\n",
    "\n",
    "Modularidade: Divide o código em partes menores e mais gerenciáveis.\n",
    "\n",
    "Abstração: Esconde a complexidade interna de uma determinada tarefa.\n",
    "\n",
    "Legibilidade: Torna o código mais fácil de entender e manter.\n",
    "\n",
    "### Exemplo completo:"
   ]
  },
  {
   "cell_type": "code",
   "execution_count": 23,
   "id": "59296324-1546-413a-b8c3-0f4b0a1dee04",
   "metadata": {},
   "outputs": [
    {
     "name": "stdin",
     "output_type": "stream",
     "text": [
      "Digite a base do retângulo:  5\n",
      "Digite a altura do retângulo:  6\n"
     ]
    },
    {
     "name": "stdout",
     "output_type": "stream",
     "text": [
      "Área: 30.0\n",
      "Perímetro: 22.0\n"
     ]
    }
   ],
   "source": [
    "def calcular_area_retangulo(base, altura):\n",
    "    area = base * altura\n",
    "    return area\n",
    "\n",
    "def calcular_perimetro_retangulo(base, altura):\n",
    "    perimetro = 2 * (base + altura)\n",
    "    return perimetro\n",
    "\n",
    "base = float(input(\"Digite a base do retângulo: \"))\n",
    "altura = float(input(\"Digite a altura do retângulo: \"))\n",
    "\n",
    "area = calcular_area_retangulo(base, altura)\n",
    "perimetro = calcular_perimetro_retangulo(base, altura)\n",
    "\n",
    "print(\"Área:\", area)\n",
    "print(\"Perímetro:\", perimetro)"
   ]
  },
  {
   "cell_type": "markdown",
   "id": "cc880c5a-28b2-426a-9650-4c938de52335",
   "metadata": {},
   "source": [
    "## Exercício"
   ]
  },
  {
   "cell_type": "markdown",
   "id": "d488e1f0-7cbe-4e0b-ad3a-eab216de3638",
   "metadata": {},
   "source": [
    "#### Crie uma função para calcular a área de um círculo."
   ]
  },
  {
   "cell_type": "code",
   "execution_count": null,
   "id": "8bd9d5df-3583-42d1-8eab-6579b06aac76",
   "metadata": {},
   "outputs": [],
   "source": []
  },
  {
   "cell_type": "markdown",
   "id": "f741eba0-d60c-4f9f-a898-7dc9b0a3fc23",
   "metadata": {},
   "source": [
    "#### Crie uma função para verificar se uma string é um palíndromo."
   ]
  },
  {
   "cell_type": "code",
   "execution_count": null,
   "id": "7bfdddb9-94b7-42bd-b2fc-64631c798d11",
   "metadata": {},
   "outputs": [],
   "source": []
  },
  {
   "cell_type": "markdown",
   "id": "b5ffc1fe-55e6-4cf3-9d90-a40dd7283bf8",
   "metadata": {},
   "source": [
    "#### Crie uma função que receba uma lista de números e retorne a soma deles."
   ]
  },
  {
   "cell_type": "markdown",
   "id": "0c521956-523c-4f2a-ae81-97f20fe30e9e",
   "metadata": {},
   "source": [
    "## Introdução à Orientação a Objetos em Python\n",
    "\n",
    "### O que é Orientação a Objetos?\n",
    "A programação orientada a objetos (POO) é um paradigma de programação que organiza o código em torno de \"objetos\". Esses objetos representam entidades do mundo real, como carros, pessoas, contas bancárias, etc. Cada objeto possui suas próprias características (atributos) e comportamentos (métodos).   \n",
    "\n",
    "### Conceitos Fundamentais:\n",
    "\n",
    "Classe: É como um blueprint ou molde para criar objetos. Define os atributos e métodos que os objetos daquela classe terão.\n",
    "\n",
    "Objeto: É uma instância de uma classe. Cada objeto possui seus próprios valores para os atributos definidos na classe.\n",
    "\n",
    "### Atributos e Métodos\n",
    "\n",
    "Atributos: São as características de um objeto, como o nome, a idade, o preço, etc. São os dados que definem o estado de um objeto em um determinado momento.\n",
    "\n",
    "Métodos: São as ações que um objeto pode realizar, como mover-se, calcular, imprimir, etc. São as funções definidas dentro de uma classe.\n",
    "\n",
    "### Criando Instâncias\n",
    "\n",
    "Para criar um objeto (instância) de uma classe, utilizamos o nome da classe seguido de parênteses.\n",
    "\n",
    "### Exemplo:"
   ]
  },
  {
   "cell_type": "code",
   "execution_count": 24,
   "id": "ed6e0edc-6a07-4a9b-a485-c39a6cc0890f",
   "metadata": {},
   "outputs": [
    {
     "name": "stdout",
     "output_type": "stream",
     "text": [
      "Rex\n",
      "Au au!\n"
     ]
    }
   ],
   "source": [
    "class Cachorro:\n",
    "    def __init__(self, nome, raca):\n",
    "        self.nome = nome\n",
    "        self.raca = raca\n",
    "\n",
    "    def latir(self):\n",
    "        print(\"Au au!\")\n",
    "\n",
    "# Criando um objeto (instância) da classe Cachorro\n",
    "meu_cachorro = Cachorro(\"Rex\", \"Labrador\")\n",
    "\n",
    "# Acessando atributos\n",
    "print(meu_cachorro.nome)  # Imprime \"Rex\"\n",
    "\n",
    "# Chamando um método\n",
    "meu_cachorro.latir()  # Imprime \"Au au!\""
   ]
  },
  {
   "cell_type": "markdown",
   "id": "6a2e4e3f-df2b-411e-a5d8-e2eca4489e02",
   "metadata": {},
   "source": [
    "### Em resumo:\n",
    "\n",
    "A POO é uma poderosa ferramenta para modelar o mundo real em programas de computador. Ao entender classes, objetos, atributos e métodos, você estará apto a criar programas mais organizados, flexíveis e reutilizáveis."
   ]
  },
  {
   "cell_type": "markdown",
   "id": "fa031eab-9968-408e-8eec-7f3cac2bc880",
   "metadata": {},
   "source": [
    "## Exercício"
   ]
  },
  {
   "cell_type": "markdown",
   "id": "e154bd5d-c070-4f7b-8a0e-e05bfa188e4c",
   "metadata": {},
   "source": [
    "#### Crie uma classe para representar um carro, com atributos como marca, modelo e ano."
   ]
  },
  {
   "cell_type": "code",
   "execution_count": null,
   "id": "9f4562a9-4f4a-4c28-aa84-ee820adb7769",
   "metadata": {},
   "outputs": [],
   "source": []
  },
  {
   "cell_type": "markdown",
   "id": "327b6f8c-1232-4cbe-b873-52884eca88c5",
   "metadata": {},
   "source": [
    "#### Crie um método para imprimir as informações do carro."
   ]
  },
  {
   "cell_type": "code",
   "execution_count": null,
   "id": "6a71d9b7-254a-49be-a36e-eb56d7e4c63f",
   "metadata": {},
   "outputs": [],
   "source": []
  },
  {
   "cell_type": "markdown",
   "id": "9dce82b2-055b-4636-8d48-db8672f9f86e",
   "metadata": {},
   "source": [
    "# DESAFIO FINAL \n",
    "\n",
    "#### Use tudo que você aprendeu até agora para criar um programa em Python que simule um simples sistema de cadastro de livros, utilizando os conceitos de orientação a objetos, listas, dicionários e funções."
   ]
  },
  {
   "cell_type": "code",
   "execution_count": null,
   "id": "836ed93c-57a9-48e0-9298-47df4f155c4c",
   "metadata": {},
   "outputs": [],
   "source": []
  }
 ],
 "metadata": {
  "kernelspec": {
   "display_name": "Python 3 (ipykernel)",
   "language": "python",
   "name": "python3"
  },
  "language_info": {
   "codemirror_mode": {
    "name": "ipython",
    "version": 3
   },
   "file_extension": ".py",
   "mimetype": "text/x-python",
   "name": "python",
   "nbconvert_exporter": "python",
   "pygments_lexer": "ipython3",
   "version": "3.13.0"
  }
 },
 "nbformat": 4,
 "nbformat_minor": 5
}
